{
 "cells": [
  {
   "cell_type": "code",
   "execution_count": 55,
   "metadata": {},
   "outputs": [],
   "source": [
    "import json\n",
    "import re\n",
    "import pandas as pd\n",
    "import openpyxl\n",
    "from pandas.io.json import json_normalize"
   ]
  },
  {
   "cell_type": "code",
   "execution_count": 56,
   "metadata": {},
   "outputs": [],
   "source": [
    "r = re.compile(r'[^\\x0A\\x20-\\x7D]')\n",
    "#katas = ['kowe', 'kanca', ' kuwi', ' iki ', ' kabeh', ' iku', ' mangan', ' krungu', 'melu ', ' koe', 'rodo', 'mbok', 'mergo']\n",
    "#kata yang kira-kira bisa menjadi bagian dari kata lain bisa ditambahkan spasi\n",
    "#misal 'iki' dalam 'dikita' "
   ]
  },
  {
   "cell_type": "code",
   "execution_count": 57,
   "metadata": {},
   "outputs": [],
   "source": [
    "with open('Draft_SMS_UGM.json') as f:\n",
    "    d = json.load(f)\n",
    "    for data in d['feeds']:\n",
    "        data['content'] = r.sub('', data['content'].lower())\n",
    "        temp = map(lambda x: r.sub('', x).replace('\\n', ' ') if (x != None) else None, data['comments'])\n",
    "        data['comments'] = \"\\n\".join(filter(lambda x: x != None and x != '', temp))\n",
    "        data['comments'] = data['comments'].lower()"
   ]
  },
  {
   "cell_type": "code",
   "execution_count": 58,
   "metadata": {},
   "outputs": [],
   "source": [
    "df = json_normalize(d['feeds'])"
   ]
  },
  {
   "cell_type": "code",
   "execution_count": 59,
   "metadata": {},
   "outputs": [],
   "source": [
    "df.set_index('postId', inplace = True)"
   ]
  },
  {
   "cell_type": "code",
   "execution_count": 60,
   "metadata": {},
   "outputs": [],
   "source": [
    "ddf = df.content.str.extract(r'(?:\\s*(?:dari|from)\\s*:\\s*(?P<dari>.+)\\s+)?(?:(?:teruntuk|untuk|for|buat|kepada|ke)\\s*:\\s*(?P<untuk>.+)\\s+)?(?:(?:pesan|messages?)?\\s*:?\\s*(?P<pesan>[\\x00-\\x7f]+))', flags=re.IGNORECASE)"
   ]
  },
  {
   "cell_type": "code",
   "execution_count": 61,
   "metadata": {},
   "outputs": [],
   "source": [
    "df['dari'] = ddf['dari']\n",
    "df['untuk'] = ddf['untuk']\n",
    "df['pesan'] = ddf.pesan.str.replace('\\n', ' ').replace(' {2,}', ' ', regex=True)\n",
    "df['panjangPesanKata'] = 0\n",
    "df['panjangPesanHuruf'] = 0\n",
    "df['banyakKomentar'] = 0"
   ]
  },
  {
   "cell_type": "code",
   "execution_count": 62,
   "metadata": {},
   "outputs": [],
   "source": [
    "df.drop(columns=['content'], inplace = True)"
   ]
  },
  {
   "cell_type": "code",
   "execution_count": 63,
   "metadata": {},
   "outputs": [],
   "source": [
    "df.drop_duplicates(subset =\"pesan\",keep = False, inplace = True)"
   ]
  },
  {
   "cell_type": "code",
   "execution_count": 64,
   "metadata": {},
   "outputs": [],
   "source": [
    "df.dropna(axis=0, how='any', inplace=True)"
   ]
  },
  {
   "cell_type": "code",
   "execution_count": 65,
   "metadata": {},
   "outputs": [],
   "source": [
    "for index, row in df.iterrows():\n",
    "    if(len(row['pesan'].split(' ')) < 5):\n",
    "        df.drop(index, inplace=True)\n",
    "    else:\n",
    "        df.at[index, 'panjangPesanHuruf'] = len(row['pesan'])\n",
    "        df.at[index, 'panjangPesanKata'] = len(row['pesan'].split(' '))\n",
    "        df.at[index, 'banyakKomentar'] = len(row['comments'].split())\n",
    "    \n",
    "#    else:\n",
    "#        for kata in katas:\n",
    "#            if((kata in row['pesan'].lower()) or (kata in row['dari'].lower()) or (kata in row['untuk'].lower())):\n",
    "#                df.drop(index, inplace=True)\n",
    "#                break\n",
    "                "
   ]
  },
  {
   "cell_type": "code",
   "execution_count": 66,
   "metadata": {},
   "outputs": [
    {
     "data": {
      "text/html": [
       "<div>\n",
       "<style scoped>\n",
       "    .dataframe tbody tr th:only-of-type {\n",
       "        vertical-align: middle;\n",
       "    }\n",
       "\n",
       "    .dataframe tbody tr th {\n",
       "        vertical-align: top;\n",
       "    }\n",
       "\n",
       "    .dataframe thead th {\n",
       "        text-align: right;\n",
       "    }\n",
       "</style>\n",
       "<table border=\"1\" class=\"dataframe\">\n",
       "  <thead>\n",
       "    <tr style=\"text-align: right;\">\n",
       "      <th></th>\n",
       "      <th>comments</th>\n",
       "      <th>likeCount</th>\n",
       "      <th>dari</th>\n",
       "      <th>untuk</th>\n",
       "      <th>pesan</th>\n",
       "      <th>panjangPesanKata</th>\n",
       "      <th>panjangPesanHuruf</th>\n",
       "      <th>banyakKomentar</th>\n",
       "    </tr>\n",
       "    <tr>\n",
       "      <th>postId</th>\n",
       "      <th></th>\n",
       "      <th></th>\n",
       "      <th></th>\n",
       "      <th></th>\n",
       "      <th></th>\n",
       "      <th></th>\n",
       "      <th></th>\n",
       "      <th></th>\n",
       "    </tr>\n",
       "  </thead>\n",
       "  <tbody>\n",
       "    <tr>\n",
       "      <th>1155040072910043061</th>\n",
       "      <td>iya ;( jd kangen masa masa ospek\\naamiin\\nhehe...</td>\n",
       "      <td>190</td>\n",
       "      <td>adik yang tidak pandai berbicara namun lebih m...</td>\n",
       "      <td>kakak tingkat favorit</td>\n",
       "      <td>sering kali kami mengeluh tentang kalian \"mas ...</td>\n",
       "      <td>255</td>\n",
       "      <td>1774</td>\n",
       "      <td>31</td>\n",
       "    </tr>\n",
       "    <tr>\n",
       "      <th>1155066024410041180</th>\n",
       "      <td>sebelah mana nih\\neh iya po? :((\\nsebelah mana...</td>\n",
       "      <td>63</td>\n",
       "      <td>saya yang baru tau</td>\n",
       "      <td>kalian yang mau tau maupun udah tau</td>\n",
       "      <td>ternyata jalan pogung di tutup ya :\"</td>\n",
       "      <td>7</td>\n",
       "      <td>36</td>\n",
       "      <td>57</td>\n",
       "    </tr>\n",
       "    <tr>\n",
       "      <th>1155031044610047449</th>\n",
       "      <td>ngga lolos syarat kedua \\n#ask kenapa ya donor...</td>\n",
       "      <td>119</td>\n",
       "      <td>wanita berpikiran konservatif</td>\n",
       "      <td>warga jogja</td>\n",
       "      <td>yuk kita berbuat baik. semoga perbuatan baik m...</td>\n",
       "      <td>11</td>\n",
       "      <td>69</td>\n",
       "      <td>99</td>\n",
       "    </tr>\n",
       "    <tr>\n",
       "      <th>1155039237710047873</th>\n",
       "      <td>yongono iku jenenge konco\\nkeplak ae nder\\nsam...</td>\n",
       "      <td>268</td>\n",
       "      <td>aku</td>\n",
       "      <td>koe</td>\n",
       "      <td>he, aku pas dijaluki tulung opo ae ro koe yo a...</td>\n",
       "      <td>24</td>\n",
       "      <td>129</td>\n",
       "      <td>107</td>\n",
       "    </tr>\n",
       "    <tr>\n",
       "      <th>1155063528410048781</th>\n",
       "      <td>kejatuhan ijo , jadi bangjo lu nder wkwk\\nbera...</td>\n",
       "      <td>156</td>\n",
       "      <td>aku yang udah kejatuhan 2x</td>\n",
       "      <td>warga yujiem dan sekitarnya</td>\n",
       "      <td>aku mau kasih info aja nih gaes ya sedikit cer...</td>\n",
       "      <td>75</td>\n",
       "      <td>464</td>\n",
       "      <td>233</td>\n",
       "    </tr>\n",
       "  </tbody>\n",
       "</table>\n",
       "</div>"
      ],
      "text/plain": [
       "                                                              comments  \\\n",
       "postId                                                                   \n",
       "1155040072910043061  iya ;( jd kangen masa masa ospek\\naamiin\\nhehe...   \n",
       "1155066024410041180  sebelah mana nih\\neh iya po? :((\\nsebelah mana...   \n",
       "1155031044610047449  ngga lolos syarat kedua \\n#ask kenapa ya donor...   \n",
       "1155039237710047873  yongono iku jenenge konco\\nkeplak ae nder\\nsam...   \n",
       "1155063528410048781  kejatuhan ijo , jadi bangjo lu nder wkwk\\nbera...   \n",
       "\n",
       "                     likeCount  \\\n",
       "postId                           \n",
       "1155040072910043061        190   \n",
       "1155066024410041180         63   \n",
       "1155031044610047449        119   \n",
       "1155039237710047873        268   \n",
       "1155063528410048781        156   \n",
       "\n",
       "                                                                  dari  \\\n",
       "postId                                                                   \n",
       "1155040072910043061  adik yang tidak pandai berbicara namun lebih m...   \n",
       "1155066024410041180                                 saya yang baru tau   \n",
       "1155031044610047449                      wanita berpikiran konservatif   \n",
       "1155039237710047873                                                aku   \n",
       "1155063528410048781                         aku yang udah kejatuhan 2x   \n",
       "\n",
       "                                                   untuk  \\\n",
       "postId                                                     \n",
       "1155040072910043061                kakak tingkat favorit   \n",
       "1155066024410041180  kalian yang mau tau maupun udah tau   \n",
       "1155031044610047449                          warga jogja   \n",
       "1155039237710047873                                  koe   \n",
       "1155063528410048781          warga yujiem dan sekitarnya   \n",
       "\n",
       "                                                                 pesan  \\\n",
       "postId                                                                   \n",
       "1155040072910043061  sering kali kami mengeluh tentang kalian \"mas ...   \n",
       "1155066024410041180               ternyata jalan pogung di tutup ya :\"   \n",
       "1155031044610047449  yuk kita berbuat baik. semoga perbuatan baik m...   \n",
       "1155039237710047873  he, aku pas dijaluki tulung opo ae ro koe yo a...   \n",
       "1155063528410048781  aku mau kasih info aja nih gaes ya sedikit cer...   \n",
       "\n",
       "                     panjangPesanKata  panjangPesanHuruf  banyakKomentar  \n",
       "postId                                                                    \n",
       "1155040072910043061               255               1774              31  \n",
       "1155066024410041180                 7                 36              57  \n",
       "1155031044610047449                11                 69              99  \n",
       "1155039237710047873                24                129             107  \n",
       "1155063528410048781                75                464             233  "
      ]
     },
     "execution_count": 66,
     "metadata": {},
     "output_type": "execute_result"
    }
   ],
   "source": [
    "df.head(5)"
   ]
  },
  {
   "cell_type": "code",
   "execution_count": null,
   "metadata": {},
   "outputs": [],
   "source": []
  },
  {
   "cell_type": "code",
   "execution_count": 13,
   "metadata": {},
   "outputs": [],
   "source": [
    "df.to_excel(\"Clean.xlsx\")  # doctest: +SKIP"
   ]
  },
  {
   "cell_type": "code",
   "execution_count": null,
   "metadata": {},
   "outputs": [],
   "source": []
  },
  {
   "cell_type": "code",
   "execution_count": null,
   "metadata": {},
   "outputs": [],
   "source": []
  }
 ],
 "metadata": {
  "kernelspec": {
   "display_name": "Python 2",
   "language": "python",
   "name": "python2"
  },
  "language_info": {
   "codemirror_mode": {
    "name": "ipython",
    "version": 2
   },
   "file_extension": ".py",
   "mimetype": "text/x-python",
   "name": "python",
   "nbconvert_exporter": "python",
   "pygments_lexer": "ipython2",
   "version": "2.7.13"
  }
 },
 "nbformat": 4,
 "nbformat_minor": 2
}
