{
 "cells": [
  {
   "cell_type": "code",
   "execution_count": 232,
   "metadata": {},
   "outputs": [],
   "source": [
    "import json\n",
    "import re\n",
    "import pandas as pd\n",
    "from pandas.io.json import json_normalize"
   ]
  },
  {
   "cell_type": "code",
   "execution_count": 233,
   "metadata": {},
   "outputs": [],
   "source": [
    "r = re.compile(r'([^\\x20-\\x7D\\n]|\\s+$)')"
   ]
  },
  {
   "cell_type": "code",
   "execution_count": 234,
   "metadata": {},
   "outputs": [],
   "source": [
    "with open('Draft_SMS_UGM.json') as f:\n",
    "    d = json.load(f)\n",
    "    for data in d['feeds']:\n",
    "        temp = map(lambda x: r.sub('', x).replace('\\n', ' ') if (x != None) else None, data['comments'])\n",
    "        data['comments'] = \"\\n\".join(filter(lambda x: x != None and x != '', temp))"
   ]
  },
  {
   "cell_type": "code",
   "execution_count": 235,
   "metadata": {},
   "outputs": [],
   "source": [
    "df = json_normalize(d['feeds'])"
   ]
  },
  {
   "cell_type": "code",
   "execution_count": 236,
   "metadata": {},
   "outputs": [],
   "source": [
    "to_drop = ['content']\n",
    "df.drop(to_drop, inplace = True, axis = 1)"
   ]
  },
  {
   "cell_type": "code",
   "execution_count": 237,
   "metadata": {},
   "outputs": [],
   "source": [
    "df.set_index('postId', inplace = True)"
   ]
  },
  {
   "cell_type": "code",
   "execution_count": 238,
   "metadata": {},
   "outputs": [
    {
     "data": {
      "text/html": [
       "<div>\n",
       "<style scoped>\n",
       "    .dataframe tbody tr th:only-of-type {\n",
       "        vertical-align: middle;\n",
       "    }\n",
       "\n",
       "    .dataframe tbody tr th {\n",
       "        vertical-align: top;\n",
       "    }\n",
       "\n",
       "    .dataframe thead th {\n",
       "        text-align: right;\n",
       "    }\n",
       "</style>\n",
       "<table border=\"1\" class=\"dataframe\">\n",
       "  <thead>\n",
       "    <tr style=\"text-align: right;\">\n",
       "      <th></th>\n",
       "      <th>comments</th>\n",
       "      <th>likeCount</th>\n",
       "    </tr>\n",
       "    <tr>\n",
       "      <th>postId</th>\n",
       "      <th></th>\n",
       "      <th></th>\n",
       "    </tr>\n",
       "  </thead>\n",
       "  <tbody>\n",
       "    <tr>\n",
       "      <th>1155092176010040296</th>\n",
       "      <td>Dan akan selalu baik saja banget\")\\nok\\nkini t...</td>\n",
       "      <td>448</td>\n",
       "    </tr>\n",
       "    <tr>\n",
       "      <th>1155040072910043061</th>\n",
       "      <td>iya ;( jd kangen masa masa ospek\\naamiin\\nhehe...</td>\n",
       "      <td>190</td>\n",
       "    </tr>\n",
       "    <tr>\n",
       "      <th>1155066024410041180</th>\n",
       "      <td>sebelah mana nih\\neh iya po? :((\\nsebelah mana...</td>\n",
       "      <td>63</td>\n",
       "    </tr>\n",
       "    <tr>\n",
       "      <th>1155031044610047449</th>\n",
       "      <td>Ngga lolos syarat kedua \\n#ask kenapa ya donor...</td>\n",
       "      <td>119</td>\n",
       "    </tr>\n",
       "    <tr>\n",
       "      <th>1155039237710047873</th>\n",
       "      <td>yongono iku jenenge konco\\nkeplak ae nder\\nsam...</td>\n",
       "      <td>268</td>\n",
       "    </tr>\n",
       "    <tr>\n",
       "      <th>1155067290210049241</th>\n",
       "      <td>siaap nder tengkyuu\\nyah raisoh surprise dong\\...</td>\n",
       "      <td>240</td>\n",
       "    </tr>\n",
       "    <tr>\n",
       "      <th>1155063528410048781</th>\n",
       "      <td>kejatuhan ijo , jadi bangjo lu nder wkwk\\nBera...</td>\n",
       "      <td>156</td>\n",
       "    </tr>\n",
       "    <tr>\n",
       "      <th>1155083888210043792</th>\n",
       "      <td>linknya aktif coba. formulir income seumur hid...</td>\n",
       "      <td>620</td>\n",
       "    </tr>\n",
       "    <tr>\n",
       "      <th>1155013385810042867</th>\n",
       "      <td>Ngurusin A5 buat nyoblos 17 April?\\nupMas Gadu...</td>\n",
       "      <td>114</td>\n",
       "    </tr>\n",
       "    <tr>\n",
       "      <th>1155092878510044949</th>\n",
       "      <td>dari van dijk?\\n.-.\\nbuset\\nWKWKWKWK\\nvin dies...</td>\n",
       "      <td>293</td>\n",
       "    </tr>\n",
       "  </tbody>\n",
       "</table>\n",
       "</div>"
      ],
      "text/plain": [
       "                                                              comments  likeCount\n",
       "postId                                                                           \n",
       "1155092176010040296  Dan akan selalu baik saja banget\")\\nok\\nkini t...        448\n",
       "1155040072910043061  iya ;( jd kangen masa masa ospek\\naamiin\\nhehe...        190\n",
       "1155066024410041180  sebelah mana nih\\neh iya po? :((\\nsebelah mana...         63\n",
       "1155031044610047449  Ngga lolos syarat kedua \\n#ask kenapa ya donor...        119\n",
       "1155039237710047873  yongono iku jenenge konco\\nkeplak ae nder\\nsam...        268\n",
       "1155067290210049241  siaap nder tengkyuu\\nyah raisoh surprise dong\\...        240\n",
       "1155063528410048781  kejatuhan ijo , jadi bangjo lu nder wkwk\\nBera...        156\n",
       "1155083888210043792  linknya aktif coba. formulir income seumur hid...        620\n",
       "1155013385810042867  Ngurusin A5 buat nyoblos 17 April?\\nupMas Gadu...        114\n",
       "1155092878510044949  dari van dijk?\\n.-.\\nbuset\\nWKWKWKWK\\nvin dies...        293"
      ]
     },
     "execution_count": 238,
     "metadata": {},
     "output_type": "execute_result"
    }
   ],
   "source": [
    "df.head(10)"
   ]
  },
  {
   "cell_type": "code",
   "execution_count": null,
   "metadata": {},
   "outputs": [],
   "source": []
  },
  {
   "cell_type": "code",
   "execution_count": 239,
   "metadata": {},
   "outputs": [],
   "source": [
    "df.to_excel(\"output2.xlsx\")  # doctest: +SKIP"
   ]
  },
  {
   "cell_type": "code",
   "execution_count": null,
   "metadata": {},
   "outputs": [],
   "source": []
  },
  {
   "cell_type": "code",
   "execution_count": null,
   "metadata": {},
   "outputs": [],
   "source": []
  }
 ],
 "metadata": {
  "kernelspec": {
   "display_name": "Python 2",
   "language": "python",
   "name": "python2"
  },
  "language_info": {
   "codemirror_mode": {
    "name": "ipython",
    "version": 2
   },
   "file_extension": ".py",
   "mimetype": "text/x-python",
   "name": "python",
   "nbconvert_exporter": "python",
   "pygments_lexer": "ipython2",
   "version": "2.7.13"
  }
 },
 "nbformat": 4,
 "nbformat_minor": 2
}
