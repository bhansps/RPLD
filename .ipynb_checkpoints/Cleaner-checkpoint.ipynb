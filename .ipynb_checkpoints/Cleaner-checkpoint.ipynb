{
 "cells": [
  {
   "cell_type": "code",
   "execution_count": 1,
   "metadata": {},
   "outputs": [],
   "source": [
    "import json\n",
    "import re\n",
    "import pandas as pd\n",
    "import openpyxl\n",
    "from pandas.io.json import json_normalize"
   ]
  },
  {
   "cell_type": "code",
   "execution_count": 2,
   "metadata": {},
   "outputs": [],
   "source": [
    "r = re.compile(r'[^\\x0A\\x20-\\x7D]')"
   ]
  },
  {
   "cell_type": "code",
   "execution_count": 3,
   "metadata": {},
   "outputs": [],
   "source": [
    "with open('Draft_SMS_UGM.json') as f:\n",
    "    d = json.load(f)\n",
    "    for data in d['feeds']:\n",
    "        data['content'] = r.sub('', data['content'])\n",
    "        temp = map(lambda x: r.sub('', x).replace('\\n', ' ') if (x != None) else None, data['comments'])\n",
    "        data['comments'] = \"\\n\".join(filter(lambda x: x != None and x != '', temp))"
   ]
  },
  {
   "cell_type": "code",
   "execution_count": 4,
   "metadata": {},
   "outputs": [],
   "source": [
    "df = json_normalize(d['feeds'])"
   ]
  },
  {
   "cell_type": "code",
   "execution_count": 5,
   "metadata": {},
   "outputs": [],
   "source": [
    "df.set_index('postId', inplace = True)"
   ]
  },
  {
   "cell_type": "code",
   "execution_count": 6,
   "metadata": {},
   "outputs": [],
   "source": [
    "ddf = df.content.str.extract(r'(?:\\s*(?:dari|from)\\s*:\\s*(?P<dari>.+)\\s+)?(?:(?:teruntuk|untuk|for|buat|kepada|ke)\\s*:\\s*(?P<untuk>.+)\\s+)?(?:(?:pesan|messages?)?\\s*:?\\s*(?P<pesan>[\\x00-\\x7f]+))', flags=re.IGNORECASE)"
   ]
  },
  {
   "cell_type": "code",
   "execution_count": 7,
   "metadata": {},
   "outputs": [],
   "source": [
    "df['dari'] = ddf['dari']\n",
    "df['untuk'] = ddf['untuk']\n",
    "df['pesan'] = ddf.pesan.str.replace('\\n', ' ').replace(' {2,}', ' ', regex=True)"
   ]
  },
  {
   "cell_type": "code",
   "execution_count": 8,
   "metadata": {},
   "outputs": [],
   "source": [
    "df['likeCount'] = pd.to_numeric(df['likeCount'])"
   ]
  },
  {
   "cell_type": "code",
   "execution_count": 9,
   "metadata": {},
   "outputs": [],
   "source": [
    "df.drop(columns=['content'], inplace = True)"
   ]
  },
  {
   "cell_type": "code",
   "execution_count": 10,
   "metadata": {},
   "outputs": [],
   "source": [
    "df.drop_duplicates(subset =\"pesan\",keep = False, inplace = True)"
   ]
  },
  {
   "cell_type": "code",
   "execution_count": 11,
   "metadata": {},
   "outputs": [
    {
     "data": {
      "text/html": [
       "<div>\n",
       "<style scoped>\n",
       "    .dataframe tbody tr th:only-of-type {\n",
       "        vertical-align: middle;\n",
       "    }\n",
       "\n",
       "    .dataframe tbody tr th {\n",
       "        vertical-align: top;\n",
       "    }\n",
       "\n",
       "    .dataframe thead th {\n",
       "        text-align: right;\n",
       "    }\n",
       "</style>\n",
       "<table border=\"1\" class=\"dataframe\">\n",
       "  <thead>\n",
       "    <tr style=\"text-align: right;\">\n",
       "      <th></th>\n",
       "      <th>comments</th>\n",
       "      <th>likeCount</th>\n",
       "      <th>dari</th>\n",
       "      <th>untuk</th>\n",
       "      <th>pesan</th>\n",
       "    </tr>\n",
       "    <tr>\n",
       "      <th>postId</th>\n",
       "      <th></th>\n",
       "      <th></th>\n",
       "      <th></th>\n",
       "      <th></th>\n",
       "      <th></th>\n",
       "    </tr>\n",
       "  </thead>\n",
       "  <tbody>\n",
       "    <tr>\n",
       "      <th>1155092176010040296</th>\n",
       "      <td>Dan akan selalu baik saja banget\")\\nok\\nkini t...</td>\n",
       "      <td>448</td>\n",
       "      <td>NaN</td>\n",
       "      <td>NaN</td>\n",
       "      <td>Untuk melihat podcast yang lain Selengkapnya k...</td>\n",
       "    </tr>\n",
       "    <tr>\n",
       "      <th>1155040072910043061</th>\n",
       "      <td>iya ;( jd kangen masa masa ospek\\naamiin\\nhehe...</td>\n",
       "      <td>190</td>\n",
       "      <td>adik yang tidak pandai berbicara namun lebih m...</td>\n",
       "      <td>kakak tingkat favorit</td>\n",
       "      <td>Sering kali kami mengeluh tentang kalian \"Mas ...</td>\n",
       "    </tr>\n",
       "    <tr>\n",
       "      <th>1155066024410041180</th>\n",
       "      <td>sebelah mana nih\\neh iya po? :((\\nsebelah mana...</td>\n",
       "      <td>63</td>\n",
       "      <td>Saya yang baru tau</td>\n",
       "      <td>Kalian yang mau tau maupun udah tau</td>\n",
       "      <td>Ternyata jalan Pogung di tutup ya :\"</td>\n",
       "    </tr>\n",
       "    <tr>\n",
       "      <th>1155031044610047449</th>\n",
       "      <td>Ngga lolos syarat kedua \\n#ask kenapa ya donor...</td>\n",
       "      <td>119</td>\n",
       "      <td>Wanita berpikiran konservatif</td>\n",
       "      <td>Warga Jogja</td>\n",
       "      <td>Yuk kita berbuat baik. Semoga perbuatan baik m...</td>\n",
       "    </tr>\n",
       "    <tr>\n",
       "      <th>1155039237710047873</th>\n",
       "      <td>yongono iku jenenge konco\\nkeplak ae nder\\nsam...</td>\n",
       "      <td>268</td>\n",
       "      <td>aku</td>\n",
       "      <td>koe</td>\n",
       "      <td>he, aku pas dijaluki tulung opo ae ro koe yo a...</td>\n",
       "    </tr>\n",
       "  </tbody>\n",
       "</table>\n",
       "</div>"
      ],
      "text/plain": [
       "                                                              comments  \\\n",
       "postId                                                                   \n",
       "1155092176010040296  Dan akan selalu baik saja banget\")\\nok\\nkini t...   \n",
       "1155040072910043061  iya ;( jd kangen masa masa ospek\\naamiin\\nhehe...   \n",
       "1155066024410041180  sebelah mana nih\\neh iya po? :((\\nsebelah mana...   \n",
       "1155031044610047449  Ngga lolos syarat kedua \\n#ask kenapa ya donor...   \n",
       "1155039237710047873  yongono iku jenenge konco\\nkeplak ae nder\\nsam...   \n",
       "\n",
       "                     likeCount  \\\n",
       "postId                           \n",
       "1155092176010040296        448   \n",
       "1155040072910043061        190   \n",
       "1155066024410041180         63   \n",
       "1155031044610047449        119   \n",
       "1155039237710047873        268   \n",
       "\n",
       "                                                                  dari  \\\n",
       "postId                                                                   \n",
       "1155092176010040296                                                NaN   \n",
       "1155040072910043061  adik yang tidak pandai berbicara namun lebih m...   \n",
       "1155066024410041180                                 Saya yang baru tau   \n",
       "1155031044610047449                      Wanita berpikiran konservatif   \n",
       "1155039237710047873                                                aku   \n",
       "\n",
       "                                                   untuk  \\\n",
       "postId                                                     \n",
       "1155092176010040296                                  NaN   \n",
       "1155040072910043061                kakak tingkat favorit   \n",
       "1155066024410041180  Kalian yang mau tau maupun udah tau   \n",
       "1155031044610047449                          Warga Jogja   \n",
       "1155039237710047873                                  koe   \n",
       "\n",
       "                                                                 pesan  \n",
       "postId                                                                  \n",
       "1155092176010040296  Untuk melihat podcast yang lain Selengkapnya k...  \n",
       "1155040072910043061  Sering kali kami mengeluh tentang kalian \"Mas ...  \n",
       "1155066024410041180               Ternyata jalan Pogung di tutup ya :\"  \n",
       "1155031044610047449  Yuk kita berbuat baik. Semoga perbuatan baik m...  \n",
       "1155039237710047873  he, aku pas dijaluki tulung opo ae ro koe yo a...  "
      ]
     },
     "execution_count": 11,
     "metadata": {},
     "output_type": "execute_result"
    }
   ],
   "source": [
    "df.head(5)"
   ]
  },
  {
   "cell_type": "code",
   "execution_count": 21,
   "metadata": {},
   "outputs": [],
   "source": [
    "df.to_excel(\"Clean2.xlsx\")  # doctest: +SKIP"
   ]
  },
  {
   "cell_type": "code",
   "execution_count": null,
   "metadata": {},
   "outputs": [],
   "source": []
  },
  {
   "cell_type": "code",
   "execution_count": null,
   "metadata": {},
   "outputs": [],
   "source": []
  },
  {
   "cell_type": "code",
   "execution_count": null,
   "metadata": {},
   "outputs": [],
   "source": []
  }
 ],
 "metadata": {
  "kernelspec": {
   "display_name": "Python 2",
   "language": "python",
   "name": "python2"
  },
  "language_info": {
   "codemirror_mode": {
    "name": "ipython",
    "version": 2
   },
   "file_extension": ".py",
   "mimetype": "text/x-python",
   "name": "python",
   "nbconvert_exporter": "python",
   "pygments_lexer": "ipython2",
   "version": "2.7.15rc1"
  }
 },
 "nbformat": 4,
 "nbformat_minor": 2
}
