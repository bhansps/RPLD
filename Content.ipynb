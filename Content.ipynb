{
 "cells": [
  {
   "cell_type": "code",
   "execution_count": 84,
   "metadata": {},
   "outputs": [],
   "source": [
    "import json\n",
    "import pandas as pd\n",
    "from pandas.io.json import json_normalize"
   ]
  },
  {
   "cell_type": "code",
   "execution_count": 85,
   "metadata": {},
   "outputs": [],
   "source": [
    "with open('Draft_SMS_UGM.json') as f:\n",
    "    d = json.load(f)"
   ]
  },
  {
   "cell_type": "code",
   "execution_count": 86,
   "metadata": {},
   "outputs": [],
   "source": [
    "df = json_normalize(d['feeds'])"
   ]
  },
  {
   "cell_type": "code",
   "execution_count": 87,
   "metadata": {},
   "outputs": [],
   "source": [
    "to_drop = ['comments','likeCount']\n",
    "df.drop(to_drop, inplace = True, axis = 1)"
   ]
  },
  {
   "cell_type": "code",
   "execution_count": 88,
   "metadata": {},
   "outputs": [],
   "source": [
    "df.set_index('postId', inplace = True)"
   ]
  },
  {
   "cell_type": "code",
   "execution_count": 89,
   "metadata": {},
   "outputs": [],
   "source": [
    "df = df.replace({r'\\s+$': '', r'^\\s+': ''}, regex=True).replace(r'\\n',  ' ', regex=True)"
   ]
  },
  {
   "cell_type": "code",
   "execution_count": 90,
   "metadata": {},
   "outputs": [],
   "source": [
    "df = df.content.str.split('(:|:|:)').apply(pd.Series)[[2,4,6]].rename(columns={2: 'Dari', 4: 'Untuk', 6: 'Pesan'})"
   ]
  },
  {
   "cell_type": "code",
   "execution_count": 91,
   "metadata": {},
   "outputs": [],
   "source": [
    "df['Dari'] = df['Dari'].str[:-6]"
   ]
  },
  {
   "cell_type": "code",
   "execution_count": 92,
   "metadata": {},
   "outputs": [],
   "source": [
    "df['Untuk'] = df['Untuk'].str[:-6]"
   ]
  },
  {
   "cell_type": "code",
   "execution_count": 93,
   "metadata": {},
   "outputs": [
    {
     "data": {
      "text/html": [
       "<div>\n",
       "<style scoped>\n",
       "    .dataframe tbody tr th:only-of-type {\n",
       "        vertical-align: middle;\n",
       "    }\n",
       "\n",
       "    .dataframe tbody tr th {\n",
       "        vertical-align: top;\n",
       "    }\n",
       "\n",
       "    .dataframe thead th {\n",
       "        text-align: right;\n",
       "    }\n",
       "</style>\n",
       "<table border=\"1\" class=\"dataframe\">\n",
       "  <thead>\n",
       "    <tr style=\"text-align: right;\">\n",
       "      <th></th>\n",
       "      <th>Dari</th>\n",
       "      <th>Untuk</th>\n",
       "      <th>Pesan</th>\n",
       "    </tr>\n",
       "    <tr>\n",
       "      <th>postId</th>\n",
       "      <th></th>\n",
       "      <th></th>\n",
       "      <th></th>\n",
       "    </tr>\n",
       "  </thead>\n",
       "  <tbody>\n",
       "    <tr>\n",
       "      <th>1155092176010040296</th>\n",
       "      <td>//www.instagram.com/gantengs</td>\n",
       "      <td>NaN</td>\n",
       "      <td>NaN</td>\n",
       "    </tr>\n",
       "    <tr>\n",
       "      <th>1155040072910043061</th>\n",
       "      <td>adik yang tidak pandai berbicara namun lebih ...</td>\n",
       "      <td>kakak tingkat favorit</td>\n",
       "      <td>Sering kali kami mengeluh tentang kalian \"Mas...</td>\n",
       "    </tr>\n",
       "    <tr>\n",
       "      <th>1155066024410041180</th>\n",
       "      <td>Saya yang baru tau</td>\n",
       "      <td>Kalian yang mau tau maupun udah tau</td>\n",
       "      <td>Ternyata jalan Pogung di tutup ya</td>\n",
       "    </tr>\n",
       "    <tr>\n",
       "      <th>1155031044610047449</th>\n",
       "      <td>Wanita berpikiran konservatif</td>\n",
       "      <td>Warga Jogja</td>\n",
       "      <td>Yuk kita berbuat baik. Semoga perbuatan baik ...</td>\n",
       "    </tr>\n",
       "    <tr>\n",
       "      <th>1155039237710047873</th>\n",
       "      <td>aku</td>\n",
       "      <td>koe</td>\n",
       "      <td>he, aku pas dijaluki tulung opo ae ro koe yo ...</td>\n",
       "    </tr>\n",
       "    <tr>\n",
       "      <th>1155067290210049241</th>\n",
       "      <td>NaN</td>\n",
       "      <td>NaN</td>\n",
       "      <td>NaN</td>\n",
       "    </tr>\n",
       "    <tr>\n",
       "      <th>1155063528410048781</th>\n",
       "      <td>aku yang udah kejatuhan 2x</td>\n",
       "      <td>warga yujiem dan sekitarnya</td>\n",
       "      <td>Aku mau kasih info aja nih gaes ya sedikit ce...</td>\n",
       "    </tr>\n",
       "    <tr>\n",
       "      <th>1155083888210043792</th>\n",
       "      <td>tim pengusil</td>\n",
       "      <td>peminat kkn</td>\n",
       "      <td>[OPEN RECRUITMENT KKN]  •KAMPUNG DURIAN RUNT...</td>\n",
       "    </tr>\n",
       "    <tr>\n",
       "      <th>1155013385810042867</th>\n",
       "      <td>yang pinjem pulpen di fak kehutanan buat ngis...</td>\n",
       "      <td>yang minjemin pulpen</td>\n",
       "      <td>Maaf ya mbak pulpennya ga dikembalikan langsu...</td>\n",
       "    </tr>\n",
       "    <tr>\n",
       "      <th>1155092878510044949</th>\n",
       "      <td>vd</td>\n",
       "      <td>Mas nya</td>\n",
       "      <td>Aku to mas nek kelingan biyen aku mbok kon nu...</td>\n",
       "    </tr>\n",
       "  </tbody>\n",
       "</table>\n",
       "</div>"
      ],
      "text/plain": [
       "                                                                  Dari  \\\n",
       "postId                                                                   \n",
       "1155092176010040296                       //www.instagram.com/gantengs   \n",
       "1155040072910043061   adik yang tidak pandai berbicara namun lebih ...   \n",
       "1155066024410041180                                Saya yang baru tau    \n",
       "1155031044610047449                     Wanita berpikiran konservatif    \n",
       "1155039237710047873                                               aku    \n",
       "1155067290210049241                                                NaN   \n",
       "1155063528410048781                        aku yang udah kejatuhan 2x    \n",
       "1155083888210043792                                      tim pengusil    \n",
       "1155013385810042867   yang pinjem pulpen di fak kehutanan buat ngis...   \n",
       "1155092878510044949                                                vd    \n",
       "\n",
       "                                                     Untuk  \\\n",
       "postId                                                       \n",
       "1155092176010040296                                    NaN   \n",
       "1155040072910043061                 kakak tingkat favorit    \n",
       "1155066024410041180   Kalian yang mau tau maupun udah tau    \n",
       "1155031044610047449                          Warga Jogja     \n",
       "1155039237710047873                                  koe     \n",
       "1155067290210049241                                    NaN   \n",
       "1155063528410048781          warga yujiem dan sekitarnya     \n",
       "1155083888210043792                           peminat kkn    \n",
       "1155013385810042867                   yang minjemin pulpen   \n",
       "1155092878510044949                               Mas nya    \n",
       "\n",
       "                                                                 Pesan  \n",
       "postId                                                                  \n",
       "1155092176010040296                                                NaN  \n",
       "1155040072910043061   Sering kali kami mengeluh tentang kalian \"Mas...  \n",
       "1155066024410041180                 Ternyata jalan Pogung di tutup ya   \n",
       "1155031044610047449   Yuk kita berbuat baik. Semoga perbuatan baik ...  \n",
       "1155039237710047873   he, aku pas dijaluki tulung opo ae ro koe yo ...  \n",
       "1155067290210049241                                                NaN  \n",
       "1155063528410048781   Aku mau kasih info aja nih gaes ya sedikit ce...  \n",
       "1155083888210043792    [OPEN RECRUITMENT KKN]  •KAMPUNG DURIAN RUNT...  \n",
       "1155013385810042867   Maaf ya mbak pulpennya ga dikembalikan langsu...  \n",
       "1155092878510044949   Aku to mas nek kelingan biyen aku mbok kon nu...  "
      ]
     },
     "execution_count": 93,
     "metadata": {},
     "output_type": "execute_result"
    }
   ],
   "source": [
    "df.head(10)"
   ]
  },
  {
   "cell_type": "code",
   "execution_count": null,
   "metadata": {},
   "outputs": [],
   "source": []
  },
  {
   "cell_type": "code",
   "execution_count": 60,
   "metadata": {},
   "outputs": [],
   "source": [
    "df.to_excel(\"output2.xlsx\")  # doctest: +SKIP"
   ]
  },
  {
   "cell_type": "code",
   "execution_count": null,
   "metadata": {},
   "outputs": [],
   "source": []
  }
 ],
 "metadata": {
  "kernelspec": {
   "display_name": "Python 3",
   "language": "python",
   "name": "python3"
  },
  "language_info": {
   "codemirror_mode": {
    "name": "ipython",
    "version": 3
   },
   "file_extension": ".py",
   "mimetype": "text/x-python",
   "name": "python",
   "nbconvert_exporter": "python",
   "pygments_lexer": "ipython3",
   "version": "3.6.7"
  }
 },
 "nbformat": 4,
 "nbformat_minor": 2
}
